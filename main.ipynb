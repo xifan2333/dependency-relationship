{
 "cells": [
  {
   "cell_type": "markdown",
   "metadata": {},
   "source": [
    "# 依赖关系设计\n",
    "\n",
    "1. 先设计文件夹结构，每个文件夹是一个 package\n",
    "2. 在编写文件夹内的 py 文件，每一个 py 文件是一个 module\n",
    "3. 编写 py 文件时可以使用 if `__name__ = \"__main__\":` 来测试功能\n",
    "4. 编写完 package 后，可以将模块使用相对路径导入到 `__init__.py` 使用 `__all__` 来决定向外暴露哪些方法\n",
    "5. 在涉及文件路径时，文件路径需要根据项目根目录来设计"
   ]
  },
  {
   "cell_type": "code",
   "execution_count": 1,
   "metadata": {},
   "outputs": [
    {
     "name": "stdout",
     "output_type": "stream",
     "text": [
      "2 0 1 1.0\n"
     ]
    }
   ],
   "source": [
    "from scripts import add,sub,mul,div\n",
    "\n",
    "print(add(),sub(),mul(),div())"
   ]
  }
 ],
 "metadata": {
  "kernelspec": {
   "display_name": ".venv",
   "language": "python",
   "name": "python3"
  },
  "language_info": {
   "codemirror_mode": {
    "name": "ipython",
    "version": 3
   },
   "file_extension": ".py",
   "mimetype": "text/x-python",
   "name": "python",
   "nbconvert_exporter": "python",
   "pygments_lexer": "ipython3",
   "version": "3.8.9"
  }
 },
 "nbformat": 4,
 "nbformat_minor": 2
}
